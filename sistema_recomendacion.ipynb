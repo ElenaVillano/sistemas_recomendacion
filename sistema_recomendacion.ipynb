{
 "cells": [
  {
   "cell_type": "markdown",
   "metadata": {},
   "source": [
    "# Proyecto Final\n",
    "\n",
    "***Equipo 07***\n",
    "\n",
    "- Aide Jazmín González Cruz\n",
    "- Elena Villalobos Nolasco\n",
    "- Carolina Acosta Tovany\n",
    "\n",
    "#### Instrucciones\n",
    "\n",
    "El proyecto/examen final consistirá en:\n",
    "\n",
    "La implementación del algoritmo de filtrado colaborativo utilizando la metodología vista en clase (uso de otra metodología no se calificará).\n",
    "\n",
    "Todos los algoritmos de aprendizaje de máquina que se utilicen deberán haber sido creados por ustedes. Sólo podrán utilizar Transformers y funciones de apoyo de scikit-learn (para realizar la división de los datos en entrenamiento y prueba, o el procedimiento de validación cruzada, etc.) mas ningún estimator (regresión logística, máquina de vectores de soporte, k medias, etc.). \n",
    "\n",
    "Se deberá explicar como se obtuvo la k con la que se generó el resultado final.\n",
    "\n",
    "Se utilizarán los archivos con el conjunto pequeño de calificaciones y películas ubicado en la siguiente https://www.kaggle.com/rounakbanik/the-movies-dataset:\n",
    "\n",
    "- **links_small.csv**: Contains the TMDB and IMDB IDs of a small subset of 9,000 movies of the Full Dataset.\n",
    "\n",
    "- **ratings_small.csv**: The subset of 100,000 ratings from 700 users on 9,000 movies.\n",
    "\n",
    "Con el fin de mejorar la calificación (opcional, puntos extra), se podrán utilizar los algoritmos desarrollado en las tareas del curso y los datos relevantes (los que hacen match con los datos anteriores) contenidos en los archivos:\n",
    "\n",
    "- **movies_metadata.csv**: The main Movies Metadata file. Contains information on 45,000 movies featured in the Full MovieLens dataset. Features include posters, backdrops, budget, revenue, release dates, languages, production countries and companies.\n",
    "\n",
    "- **keywords.csv**: Contains the movie plot keywords for our MovieLens movies. Available in the form of a stringified JSON Object.\n",
    "\n",
    "- **credits.csv**: Consists of Cast and Crew Information for all our movies. Available in the form of a stringified JSON Object.\n",
    "\n",
    "La métrica con la que se determinará el desempeño del algoritmo es el NDCG \n",
    "\n",
    "(https://en.wikipedia.org/wiki/Discounted_cumulative_gain#Normalized_DCG)\n",
    "\n",
    "Una vez obtenida la matriz de calificaciones, el programa deberá ser capaz de regresar las 5 mejores recomendaciones del o de los usuarios que se consulten.\n",
    "\n",
    "El proyecto se entregará en un Jupyter notebook. El readme file debe contener las instrucciones para que se ejecute el código. Deben cerciorarse que siguiendo esas instrucciones el programa corre sin errores. "
   ]
  },
  {
   "cell_type": "code",
   "execution_count": 1,
   "metadata": {},
   "outputs": [],
   "source": [
    "# Importación de paqueterías necesarias\n",
    "import pandas as pd\n",
    "import numpy as np\n",
    "import random\n",
    "import matplotlib.pyplot as plt"
   ]
  },
  {
   "cell_type": "code",
   "execution_count": 2,
   "metadata": {},
   "outputs": [],
   "source": [
    "# Importación de paqueterías creadas por nosotras\n",
    "from sis_recom import load_data \n",
    "from sis_recom import create_train_test, fun_ECM\n",
    "from sis_recom import recomendaciones_id\n",
    "from sis_recom import desempenio_NDCG, obtain_ndcg_all_users"
   ]
  },
  {
   "cell_type": "markdown",
   "metadata": {},
   "source": [
    "La función objetivo:\n",
    "    \n",
    "$$J(X) = \\frac{1}{2} \\displaystyle\\sum_{(a,i)\\in\\mathbb{D}} \\left(Y_{ai}-\\left [ UV^T \\right ]_{ai} \\right)^2 + \\frac{\\lambda}{2} \\displaystyle\\sum_{a=1}^n \\displaystyle\\sum_{j=1}^k U_{aj}^2 + \\frac{\\lambda}{2} \\displaystyle\\sum_{i=1}^m \\displaystyle\\sum_{j=1}^k V_{ij}^2$$"
   ]
  },
  {
   "cell_type": "markdown",
   "metadata": {},
   "source": [
    "Ya derivadas e igualadas a cero dependiendo de los usuarios e items:\n",
    "\n",
    "$$x_u^T = r_uY\\left(Y^TY+\\lambda_xI\\right)^{-1}$$\n",
    "\n",
    "$$y_i^T = r_iX\\left(X^TX+\\lambda_yI\\right)^{-1}$$"
   ]
  },
  {
   "cell_type": "code",
   "execution_count": 3,
   "metadata": {
    "scrolled": true
   },
   "outputs": [],
   "source": [
    "# Cargamos datos ya limpios\n",
    "ratings, bases_nombres_id, arr_movies = load_data()"
   ]
  },
  {
   "cell_type": "code",
   "execution_count": 4,
   "metadata": {},
   "outputs": [
    {
     "data": {
      "text/html": [
       "<div>\n",
       "<style scoped>\n",
       "    .dataframe tbody tr th:only-of-type {\n",
       "        vertical-align: middle;\n",
       "    }\n",
       "\n",
       "    .dataframe tbody tr th {\n",
       "        vertical-align: top;\n",
       "    }\n",
       "\n",
       "    .dataframe thead th {\n",
       "        text-align: right;\n",
       "    }\n",
       "</style>\n",
       "<table border=\"1\" class=\"dataframe\">\n",
       "  <thead>\n",
       "    <tr style=\"text-align: right;\">\n",
       "      <th></th>\n",
       "      <th>1</th>\n",
       "      <th>2</th>\n",
       "      <th>3</th>\n",
       "      <th>4</th>\n",
       "      <th>5</th>\n",
       "      <th>6</th>\n",
       "      <th>7</th>\n",
       "      <th>8</th>\n",
       "      <th>9</th>\n",
       "      <th>10</th>\n",
       "      <th>...</th>\n",
       "      <th>161830</th>\n",
       "      <th>161918</th>\n",
       "      <th>161944</th>\n",
       "      <th>162376</th>\n",
       "      <th>162542</th>\n",
       "      <th>162672</th>\n",
       "      <th>163056</th>\n",
       "      <th>163949</th>\n",
       "      <th>164977</th>\n",
       "      <th>164979</th>\n",
       "    </tr>\n",
       "  </thead>\n",
       "  <tbody>\n",
       "    <tr>\n",
       "      <th>1</th>\n",
       "      <td>0.0</td>\n",
       "      <td>0.0</td>\n",
       "      <td>0.0</td>\n",
       "      <td>0.0</td>\n",
       "      <td>0.0</td>\n",
       "      <td>0.0</td>\n",
       "      <td>0.0</td>\n",
       "      <td>0.0</td>\n",
       "      <td>0.0</td>\n",
       "      <td>0.0</td>\n",
       "      <td>...</td>\n",
       "      <td>0.0</td>\n",
       "      <td>0.0</td>\n",
       "      <td>0.0</td>\n",
       "      <td>0.0</td>\n",
       "      <td>0.0</td>\n",
       "      <td>0.0</td>\n",
       "      <td>0.0</td>\n",
       "      <td>0.0</td>\n",
       "      <td>0.0</td>\n",
       "      <td>0.0</td>\n",
       "    </tr>\n",
       "    <tr>\n",
       "      <th>2</th>\n",
       "      <td>0.0</td>\n",
       "      <td>0.0</td>\n",
       "      <td>0.0</td>\n",
       "      <td>0.0</td>\n",
       "      <td>0.0</td>\n",
       "      <td>0.0</td>\n",
       "      <td>0.0</td>\n",
       "      <td>0.0</td>\n",
       "      <td>0.0</td>\n",
       "      <td>4.0</td>\n",
       "      <td>...</td>\n",
       "      <td>0.0</td>\n",
       "      <td>0.0</td>\n",
       "      <td>0.0</td>\n",
       "      <td>0.0</td>\n",
       "      <td>0.0</td>\n",
       "      <td>0.0</td>\n",
       "      <td>0.0</td>\n",
       "      <td>0.0</td>\n",
       "      <td>0.0</td>\n",
       "      <td>0.0</td>\n",
       "    </tr>\n",
       "    <tr>\n",
       "      <th>3</th>\n",
       "      <td>0.0</td>\n",
       "      <td>0.0</td>\n",
       "      <td>0.0</td>\n",
       "      <td>0.0</td>\n",
       "      <td>0.0</td>\n",
       "      <td>0.0</td>\n",
       "      <td>0.0</td>\n",
       "      <td>0.0</td>\n",
       "      <td>0.0</td>\n",
       "      <td>0.0</td>\n",
       "      <td>...</td>\n",
       "      <td>0.0</td>\n",
       "      <td>0.0</td>\n",
       "      <td>0.0</td>\n",
       "      <td>0.0</td>\n",
       "      <td>0.0</td>\n",
       "      <td>0.0</td>\n",
       "      <td>0.0</td>\n",
       "      <td>0.0</td>\n",
       "      <td>0.0</td>\n",
       "      <td>0.0</td>\n",
       "    </tr>\n",
       "    <tr>\n",
       "      <th>4</th>\n",
       "      <td>0.0</td>\n",
       "      <td>0.0</td>\n",
       "      <td>0.0</td>\n",
       "      <td>0.0</td>\n",
       "      <td>0.0</td>\n",
       "      <td>0.0</td>\n",
       "      <td>0.0</td>\n",
       "      <td>0.0</td>\n",
       "      <td>0.0</td>\n",
       "      <td>4.0</td>\n",
       "      <td>...</td>\n",
       "      <td>0.0</td>\n",
       "      <td>0.0</td>\n",
       "      <td>0.0</td>\n",
       "      <td>0.0</td>\n",
       "      <td>0.0</td>\n",
       "      <td>0.0</td>\n",
       "      <td>0.0</td>\n",
       "      <td>0.0</td>\n",
       "      <td>0.0</td>\n",
       "      <td>0.0</td>\n",
       "    </tr>\n",
       "    <tr>\n",
       "      <th>5</th>\n",
       "      <td>0.0</td>\n",
       "      <td>0.0</td>\n",
       "      <td>4.0</td>\n",
       "      <td>0.0</td>\n",
       "      <td>0.0</td>\n",
       "      <td>0.0</td>\n",
       "      <td>0.0</td>\n",
       "      <td>0.0</td>\n",
       "      <td>0.0</td>\n",
       "      <td>0.0</td>\n",
       "      <td>...</td>\n",
       "      <td>0.0</td>\n",
       "      <td>0.0</td>\n",
       "      <td>0.0</td>\n",
       "      <td>0.0</td>\n",
       "      <td>0.0</td>\n",
       "      <td>0.0</td>\n",
       "      <td>0.0</td>\n",
       "      <td>0.0</td>\n",
       "      <td>0.0</td>\n",
       "      <td>0.0</td>\n",
       "    </tr>\n",
       "  </tbody>\n",
       "</table>\n",
       "<p>5 rows × 9125 columns</p>\n",
       "</div>"
      ],
      "text/plain": [
       "     1    2    3    4    5    6    7    8    9   10  ...  161830  161918  \\\n",
       "1  0.0  0.0  0.0  0.0  0.0  0.0  0.0  0.0  0.0  0.0  ...     0.0     0.0   \n",
       "2  0.0  0.0  0.0  0.0  0.0  0.0  0.0  0.0  0.0  4.0  ...     0.0     0.0   \n",
       "3  0.0  0.0  0.0  0.0  0.0  0.0  0.0  0.0  0.0  0.0  ...     0.0     0.0   \n",
       "4  0.0  0.0  0.0  0.0  0.0  0.0  0.0  0.0  0.0  4.0  ...     0.0     0.0   \n",
       "5  0.0  0.0  4.0  0.0  0.0  0.0  0.0  0.0  0.0  0.0  ...     0.0     0.0   \n",
       "\n",
       "   161944  162376  162542  162672  163056  163949  164977  164979  \n",
       "1     0.0     0.0     0.0     0.0     0.0     0.0     0.0     0.0  \n",
       "2     0.0     0.0     0.0     0.0     0.0     0.0     0.0     0.0  \n",
       "3     0.0     0.0     0.0     0.0     0.0     0.0     0.0     0.0  \n",
       "4     0.0     0.0     0.0     0.0     0.0     0.0     0.0     0.0  \n",
       "5     0.0     0.0     0.0     0.0     0.0     0.0     0.0     0.0  \n",
       "\n",
       "[5 rows x 9125 columns]"
      ]
     },
     "execution_count": 4,
     "metadata": {},
     "output_type": "execute_result"
    }
   ],
   "source": [
    "ratings.head()"
   ]
  },
  {
   "cell_type": "code",
   "execution_count": 5,
   "metadata": {},
   "outputs": [],
   "source": [
    "n_users, n_items = ratings.shape"
   ]
  },
  {
   "cell_type": "code",
   "execution_count": 6,
   "metadata": {},
   "outputs": [
    {
     "data": {
      "text/plain": [
       "(671, 9125)"
      ]
     },
     "execution_count": 6,
     "metadata": {},
     "output_type": "execute_result"
    }
   ],
   "source": [
    "n_users, n_items"
   ]
  },
  {
   "cell_type": "code",
   "execution_count": 7,
   "metadata": {},
   "outputs": [],
   "source": [
    "# Separando datos en train y test\n",
    "train, test = create_train_test(np.array(ratings))"
   ]
  },
  {
   "cell_type": "code",
   "execution_count": 8,
   "metadata": {},
   "outputs": [
    {
     "data": {
      "text/plain": [
       "array([[0., 0., 0., ..., 0., 0., 0.],\n",
       "       [0., 0., 0., ..., 0., 0., 0.],\n",
       "       [0., 0., 0., ..., 0., 0., 0.],\n",
       "       ...,\n",
       "       [0., 0., 0., ..., 0., 0., 0.],\n",
       "       [4., 0., 0., ..., 0., 0., 0.],\n",
       "       [5., 0., 0., ..., 0., 0., 0.]])"
      ]
     },
     "execution_count": 8,
     "metadata": {},
     "output_type": "execute_result"
    }
   ],
   "source": [
    "train"
   ]
  },
  {
   "cell_type": "code",
   "execution_count": 9,
   "metadata": {},
   "outputs": [
    {
     "data": {
      "text/plain": [
       "array([[0., 0., 0., ..., 0., 0., 0.],\n",
       "       [0., 0., 0., ..., 0., 0., 0.],\n",
       "       [0., 0., 0., ..., 0., 0., 0.],\n",
       "       ...,\n",
       "       [0., 0., 0., ..., 0., 0., 0.],\n",
       "       [0., 0., 0., ..., 0., 0., 0.],\n",
       "       [0., 0., 0., ..., 0., 0., 0.]])"
      ]
     },
     "execution_count": 9,
     "metadata": {},
     "output_type": "execute_result"
    }
   ],
   "source": [
    "test"
   ]
  },
  {
   "cell_type": "code",
   "execution_count": 10,
   "metadata": {},
   "outputs": [],
   "source": [
    "class Matrix_Factorization:\n",
    "    \"\"\"\n",
    "    Factorización de matrices para predecir entradas vacías en una matriz\n",
    "    \n",
    "    Parametros\n",
    "    ----------\n",
    "    n_iters : numero de iteraciones para entregar algoritmo\n",
    "        \n",
    "    k : rank de la matriz\n",
    "        \n",
    "    _lambda : regularización\n",
    "    \"\"\"\n",
    "    \n",
    "    def __init__(self, n_iters, k, _lambda):\n",
    "        self._lambda = _lambda\n",
    "        self.n_iters = n_iters\n",
    "        self.k = k  \n",
    "        \n",
    "    def fit(self, train, test):\n",
    "        \"\"\"\n",
    "        partición de entrenamiento y test\n",
    "        y selección de vectores aleatorios\n",
    "        \"\"\"\n",
    "        self.n, self.m = train.shape\n",
    "        \n",
    "        self.Xu = np.random.random((self.n, self.k))\n",
    "        self.Yi = np.random.random((self.m, self.k))\n",
    "        \n",
    "        self.test_ecm_record  = []\n",
    "        self.train_ecm_record = []\n",
    "        \n",
    "        for _ in range(self.n_iters):\n",
    "            self.Xu = self._als_step(train, self.Xu, self.Yi)\n",
    "            self.Yi = self._als_step(train.T, self.Yi, self.Xu) \n",
    "            predictions = self.predict()\n",
    "            test_ecm = self.compute_ecm(test, predictions)\n",
    "            train_ecm = self.compute_ecm(train, predictions)\n",
    "            self.train_ecm_record.append(train_ecm)\n",
    "            self.test_ecm_record.append(test_ecm)\n",
    "        \n",
    "        return self    \n",
    "    \n",
    "    def _als_step(self, ratings, vec_res, vec_fij):\n",
    "        \"\"\"\n",
    "        función que obtiene los vectores X_u ó Y_i\n",
    "        \"\"\"\n",
    "        A = vec_fij.T.dot(vec_fij) + np.eye(self.k) * self._lambda\n",
    "        b = ratings.dot(vec_fij)\n",
    "        A_inv = np.linalg.inv(A)\n",
    "        vec_res = b.dot(A_inv)\n",
    "        return vec_res\n",
    "    \n",
    "    def predict(self):\n",
    "        \"\"\"Predicción de matriz completa XuYi (UV)\"\"\"\n",
    "        pred = self.Xu.dot(self.Yi.T)\n",
    "        return pred\n",
    "    \n",
    "    @staticmethod\n",
    "    def compute_ecm(y_true, y_pred):\n",
    "        mask = np.nonzero(y_true)\n",
    "        ecm = fun_ECM(y_true[mask], y_pred[mask])\n",
    "\n",
    "        return ecm\n",
    "    \n",
    "def best_K(train, test, K_list, n_iters=15, lambda_ = 0.01):\n",
    "    df_k = pd.DataFrame(0.0, index=range(1), columns=K_list)    \n",
    "    for k in K_list:\n",
    "        als = Matrix_Factorization(n_iters, k, lambda_)\n",
    "        als.fit(train, test)\n",
    "        error = np.mean(als.test_ecm_record)\n",
    "        df_k[k][0] = error\n",
    "\n",
    "    return df_k"
   ]
  },
  {
   "cell_type": "code",
   "execution_count": 11,
   "metadata": {},
   "outputs": [
    {
     "data": {
      "text/plain": [
       "<__main__.Matrix_Factorization at 0x7f07df0c6c50>"
      ]
     },
     "execution_count": 11,
     "metadata": {},
     "output_type": "execute_result"
    }
   ],
   "source": [
    "als = Matrix_Factorization(n_iters = 15, k = 36, _lambda = 0.01)\n",
    "als.fit(train, test)"
   ]
  },
  {
   "cell_type": "code",
   "execution_count": 12,
   "metadata": {},
   "outputs": [
    {
     "data": {
      "image/png": "[encoded data removed]",
      "text/plain": [
       "<Figure size 432x288 with 1 Axes>"
      ]
     },
     "metadata": {
      "needs_background": "light"
     },
     "output_type": "display_data"
    }
   ],
   "source": [
    "plt.plot(als.test_ecm_record, label = 'Test', linewidth = 2,color='r')\n",
    "plt.plot(als.train_ecm_record, label = 'Train', linewidth = 2,color='c')\n",
    "plt.xlabel('iteraciones')\n",
    "plt.ylabel('Error Cuadrático Medio')\n",
    "plt.legend(['Test','Train'])\n",
    "plt.show()"
   ]
  },
  {
   "cell_type": "markdown",
   "metadata": {},
   "source": [
    "Observamos que con muy pocas iteraciones el ECM baja, por lo que en las siguientes evaluaciones utilizaremos 15 iteraciones.\n",
    "\n",
    "### Buscando la mejor K\n"
   ]
  },
  {
   "cell_type": "code",
   "execution_count": 13,
   "metadata": {},
   "outputs": [
    {
     "data": {
      "text/html": [
       "<div>\n",
       "<style scoped>\n",
       "    .dataframe tbody tr th:only-of-type {\n",
       "        vertical-align: middle;\n",
       "    }\n",
       "\n",
       "    .dataframe tbody tr th {\n",
       "        vertical-align: top;\n",
       "    }\n",
       "\n",
       "    .dataframe thead th {\n",
       "        text-align: right;\n",
       "    }\n",
       "</style>\n",
       "<table border=\"1\" class=\"dataframe\">\n",
       "  <thead>\n",
       "    <tr style=\"text-align: right;\">\n",
       "      <th></th>\n",
       "      <th>10</th>\n",
       "      <th>71</th>\n",
       "      <th>171</th>\n",
       "      <th>271</th>\n",
       "      <th>371</th>\n",
       "      <th>471</th>\n",
       "      <th>571</th>\n",
       "      <th>671</th>\n",
       "    </tr>\n",
       "  </thead>\n",
       "  <tbody>\n",
       "    <tr>\n",
       "      <th>0</th>\n",
       "      <td>10.725289</td>\n",
       "      <td>10.570593</td>\n",
       "      <td>11.781813</td>\n",
       "      <td>12.72651</td>\n",
       "      <td>13.365499</td>\n",
       "      <td>13.78757</td>\n",
       "      <td>14.04776</td>\n",
       "      <td>14.170276</td>\n",
       "    </tr>\n",
       "  </tbody>\n",
       "</table>\n",
       "</div>"
      ],
      "text/plain": [
       "         10         71         171       271        371       471       571  \\\n",
       "0  10.725289  10.570593  11.781813  12.72651  13.365499  13.78757  14.04776   \n",
       "\n",
       "         671  \n",
       "0  14.170276  "
      ]
     },
     "execution_count": 13,
     "metadata": {},
     "output_type": "execute_result"
    }
   ],
   "source": [
    "np.random.seed(20201117)\n",
    "K_list = [10,71,171,271,371,471,571,671]\n",
    "df_k = best_K(train, test, K_list)\n",
    "df_k"
   ]
  },
  {
   "cell_type": "code",
   "execution_count": 14,
   "metadata": {},
   "outputs": [
    {
     "data": {
      "text/html": [
       "<div>\n",
       "<style scoped>\n",
       "    .dataframe tbody tr th:only-of-type {\n",
       "        vertical-align: middle;\n",
       "    }\n",
       "\n",
       "    .dataframe tbody tr th {\n",
       "        vertical-align: top;\n",
       "    }\n",
       "\n",
       "    .dataframe thead th {\n",
       "        text-align: right;\n",
       "    }\n",
       "</style>\n",
       "<table border=\"1\" class=\"dataframe\">\n",
       "  <thead>\n",
       "    <tr style=\"text-align: right;\">\n",
       "      <th></th>\n",
       "      <th>1</th>\n",
       "      <th>10</th>\n",
       "      <th>20</th>\n",
       "      <th>30</th>\n",
       "      <th>40</th>\n",
       "      <th>50</th>\n",
       "      <th>60</th>\n",
       "    </tr>\n",
       "  </thead>\n",
       "  <tbody>\n",
       "    <tr>\n",
       "      <th>0</th>\n",
       "      <td>12.277179</td>\n",
       "      <td>10.765336</td>\n",
       "      <td>10.470641</td>\n",
       "      <td>10.382057</td>\n",
       "      <td>10.337564</td>\n",
       "      <td>10.445505</td>\n",
       "      <td>10.476118</td>\n",
       "    </tr>\n",
       "  </tbody>\n",
       "</table>\n",
       "</div>"
      ],
      "text/plain": [
       "          1          10         20         30         40         50         60\n",
       "0  12.277179  10.765336  10.470641  10.382057  10.337564  10.445505  10.476118"
      ]
     },
     "execution_count": 14,
     "metadata": {},
     "output_type": "execute_result"
    }
   ],
   "source": [
    "K_list2 = [1,10,20,30,40,50,60]\n",
    "df_k2 = best_K(train, test, K_list2)\n",
    "df_k2"
   ]
  },
  {
   "cell_type": "code",
   "execution_count": 15,
   "metadata": {},
   "outputs": [
    {
     "data": {
      "image/png": "[encoded data removed]",
      "text/plain": [
       "<Figure size 432x288 with 1 Axes>"
      ]
     },
     "metadata": {
      "needs_background": "light"
     },
     "output_type": "display_data"
    }
   ],
   "source": [
    "plt.plot(K_list2,df_k2.iloc[0])\n",
    "plt.xlabel('k')\n",
    "plt.ylabel('Error Cuadrático Medio')\n",
    "plt.show()"
   ]
  },
  {
   "cell_type": "code",
   "execution_count": 16,
   "metadata": {},
   "outputs": [
    {
     "data": {
      "text/html": [
       "<div>\n",
       "<style scoped>\n",
       "    .dataframe tbody tr th:only-of-type {\n",
       "        vertical-align: middle;\n",
       "    }\n",
       "\n",
       "    .dataframe tbody tr th {\n",
       "        vertical-align: top;\n",
       "    }\n",
       "\n",
       "    .dataframe thead th {\n",
       "        text-align: right;\n",
       "    }\n",
       "</style>\n",
       "<table border=\"1\" class=\"dataframe\">\n",
       "  <thead>\n",
       "    <tr style=\"text-align: right;\">\n",
       "      <th></th>\n",
       "      <th>31</th>\n",
       "      <th>32</th>\n",
       "      <th>33</th>\n",
       "      <th>34</th>\n",
       "      <th>35</th>\n",
       "      <th>36</th>\n",
       "      <th>37</th>\n",
       "      <th>38</th>\n",
       "      <th>39</th>\n",
       "    </tr>\n",
       "  </thead>\n",
       "  <tbody>\n",
       "    <tr>\n",
       "      <th>0</th>\n",
       "      <td>10.368308</td>\n",
       "      <td>10.374968</td>\n",
       "      <td>10.363542</td>\n",
       "      <td>10.357243</td>\n",
       "      <td>10.351268</td>\n",
       "      <td>10.307344</td>\n",
       "      <td>10.392848</td>\n",
       "      <td>10.36641</td>\n",
       "      <td>10.349925</td>\n",
       "    </tr>\n",
       "  </tbody>\n",
       "</table>\n",
       "</div>"
      ],
      "text/plain": [
       "          31         32         33         34         35         36  \\\n",
       "0  10.368308  10.374968  10.363542  10.357243  10.351268  10.307344   \n",
       "\n",
       "          37        38         39  \n",
       "0  10.392848  10.36641  10.349925  "
      ]
     },
     "execution_count": 16,
     "metadata": {},
     "output_type": "execute_result"
    }
   ],
   "source": [
    "K_list3 = [31,32,33,34,35,36,37,38,39]\n",
    "df_k3 = best_K(train, test, K_list3)\n",
    "df_k3"
   ]
  },
  {
   "cell_type": "markdown",
   "metadata": {},
   "source": [
    "Con los resultados de hasta ahora vemos que **K = 36** tiene un mejor desempeño, el cuál varía dependiendo de los números random que se generan en la inicialización del vector U y V"
   ]
  },
  {
   "cell_type": "markdown",
   "metadata": {},
   "source": [
    "## Validación"
   ]
  },
  {
   "cell_type": "markdown",
   "metadata": {},
   "source": [
    "Una vez elegido el modelo realizaremos la validación: "
   ]
  },
  {
   "cell_type": "code",
   "execution_count": 17,
   "metadata": {},
   "outputs": [
    {
     "data": {
      "text/plain": [
       "<__main__.Matrix_Factorization at 0x7f07df114bd0>"
      ]
     },
     "execution_count": 17,
     "metadata": {},
     "output_type": "execute_result"
    }
   ],
   "source": [
    "k_optima = 36\n",
    "\n",
    "als = Matrix_Factorization(n_iters = 15, k = k_optima, _lambda = 0.01)\n",
    "als.fit(train, test)"
   ]
  },
  {
   "cell_type": "code",
   "execution_count": 18,
   "metadata": {},
   "outputs": [],
   "source": [
    "# Esta es la matriz completa para poder hacer recomendaciones\n",
    "MCompleta = als.predict()\n",
    "MCompleta = pd.DataFrame(MCompleta, \n",
    "                         columns=ratings.columns, \n",
    "                         index=ratings.index)"
   ]
  },
  {
   "cell_type": "markdown",
   "metadata": {},
   "source": [
    "## Recomendaciones"
   ]
  },
  {
   "cell_type": "markdown",
   "metadata": {},
   "source": [
    "**Ingrese un usuario nuevo aquí para mostrar las recomendaciones**"
   ]
  },
  {
   "cell_type": "code",
   "execution_count": 19,
   "metadata": {},
   "outputs": [],
   "source": [
    "# Aquí puede cambiar el número de usuario para obtener sus recomendaciones\n",
    "id_user = 2"
   ]
  },
  {
   "cell_type": "code",
   "execution_count": 20,
   "metadata": {},
   "outputs": [],
   "source": [
    "rec_nvas, rec_todas = recomendaciones_id(np.array(ratings)[id_user-1], \n",
    "                                         np.array(MCompleta)[id_user-1], \n",
    "                                         arr_movies, \n",
    "                                         bases_nombres_id, \n",
    "                                         id_user)"
   ]
  },
  {
   "cell_type": "code",
   "execution_count": 21,
   "metadata": {},
   "outputs": [
    {
     "name": "stdout",
     "output_type": "stream",
     "text": [
      "Estás son las nuevas películas que te recomendamos usuario no.  2\n"
     ]
    },
    {
     "data": {
      "text/html": [
       "<div>\n",
       "<style scoped>\n",
       "    .dataframe tbody tr th:only-of-type {\n",
       "        vertical-align: middle;\n",
       "    }\n",
       "\n",
       "    .dataframe tbody tr th {\n",
       "        vertical-align: top;\n",
       "    }\n",
       "\n",
       "    .dataframe thead th {\n",
       "        text-align: right;\n",
       "    }\n",
       "</style>\n",
       "<table border=\"1\" class=\"dataframe\">\n",
       "  <thead>\n",
       "    <tr style=\"text-align: right;\">\n",
       "      <th></th>\n",
       "      <th>movieId</th>\n",
       "      <th>title</th>\n",
       "    </tr>\n",
       "  </thead>\n",
       "  <tbody>\n",
       "    <tr>\n",
       "      <th>200</th>\n",
       "      <td>318</td>\n",
       "      <td>The Shawshank Redemption</td>\n",
       "    </tr>\n",
       "    <tr>\n",
       "      <th>1135</th>\n",
       "      <td>316</td>\n",
       "      <td>Stargate</td>\n",
       "    </tr>\n",
       "    <tr>\n",
       "      <th>1312</th>\n",
       "      <td>344</td>\n",
       "      <td>Ace Ventura: Pet Detective</td>\n",
       "    </tr>\n",
       "    <tr>\n",
       "      <th>2613</th>\n",
       "      <td>595</td>\n",
       "      <td>Beauty and the Beast</td>\n",
       "    </tr>\n",
       "    <tr>\n",
       "      <th>6655</th>\n",
       "      <td>380</td>\n",
       "      <td>True Lies</td>\n",
       "    </tr>\n",
       "  </tbody>\n",
       "</table>\n",
       "</div>"
      ],
      "text/plain": [
       "      movieId                       title\n",
       "200       318    The Shawshank Redemption\n",
       "1135      316                    Stargate\n",
       "1312      344  Ace Ventura: Pet Detective\n",
       "2613      595        Beauty and the Beast\n",
       "6655      380                   True Lies"
      ]
     },
     "execution_count": 21,
     "metadata": {},
     "output_type": "execute_result"
    }
   ],
   "source": [
    "# Listado de películas que no ha visto el usuario.\n",
    "print(\"Estás son las nuevas películas que te recomendamos usuario no. \", id_user)\n",
    "bases_nombres_id[bases_nombres_id['movieId'].isin(rec_nvas)][[\"movieId\", \"title\"]]"
   ]
  },
  {
   "cell_type": "code",
   "execution_count": 22,
   "metadata": {},
   "outputs": [
    {
     "name": "stdout",
     "output_type": "stream",
     "text": [
      "Estás películas te pueden interesar usuario no.  2\n"
     ]
    },
    {
     "data": {
      "text/html": [
       "<div>\n",
       "<style scoped>\n",
       "    .dataframe tbody tr th:only-of-type {\n",
       "        vertical-align: middle;\n",
       "    }\n",
       "\n",
       "    .dataframe tbody tr th {\n",
       "        vertical-align: top;\n",
       "    }\n",
       "\n",
       "    .dataframe thead th {\n",
       "        text-align: right;\n",
       "    }\n",
       "</style>\n",
       "<table border=\"1\" class=\"dataframe\">\n",
       "  <thead>\n",
       "    <tr style=\"text-align: right;\">\n",
       "      <th></th>\n",
       "      <th>movieId</th>\n",
       "      <th>title</th>\n",
       "    </tr>\n",
       "  </thead>\n",
       "  <tbody>\n",
       "    <tr>\n",
       "      <th>5</th>\n",
       "      <td>356</td>\n",
       "      <td>Forrest Gump</td>\n",
       "    </tr>\n",
       "    <tr>\n",
       "      <th>196</th>\n",
       "      <td>593</td>\n",
       "      <td>The Silence of the Lambs</td>\n",
       "    </tr>\n",
       "    <tr>\n",
       "      <th>288</th>\n",
       "      <td>527</td>\n",
       "      <td>Schindler's List</td>\n",
       "    </tr>\n",
       "    <tr>\n",
       "      <th>384</th>\n",
       "      <td>590</td>\n",
       "      <td>Dances with Wolves</td>\n",
       "    </tr>\n",
       "    <tr>\n",
       "      <th>477</th>\n",
       "      <td>296</td>\n",
       "      <td>Pulp Fiction</td>\n",
       "    </tr>\n",
       "  </tbody>\n",
       "</table>\n",
       "</div>"
      ],
      "text/plain": [
       "     movieId                     title\n",
       "5        356              Forrest Gump\n",
       "196      593  The Silence of the Lambs\n",
       "288      527          Schindler's List\n",
       "384      590        Dances with Wolves\n",
       "477      296              Pulp Fiction"
      ]
     },
     "execution_count": 22,
     "metadata": {},
     "output_type": "execute_result"
    }
   ],
   "source": [
    "# Listado de películas que incluyen las que ya vio el usuario\n",
    "print(\"Estás películas te pueden interesar usuario no. \", id_user)\n",
    "bases_nombres_id[bases_nombres_id['movieId'].isin(rec_todas)][[\"movieId\", \"title\"]]"
   ]
  },
  {
   "cell_type": "code",
   "execution_count": 23,
   "metadata": {},
   "outputs": [
    {
     "data": {
      "text/plain": [
       "0.51"
      ]
     },
     "execution_count": 23,
     "metadata": {},
     "output_type": "execute_result"
    }
   ],
   "source": [
    "# Probemos el NDCG para este usuario\n",
    "desempenio_NDCG(MCompleta.iloc[id_user])"
   ]
  },
  {
   "cell_type": "markdown",
   "metadata": {},
   "source": [
    "#### Obtengamos  el desempeño para todos los usuarios"
   ]
  },
  {
   "cell_type": "markdown",
   "metadata": {},
   "source": [
    "- Para la matriz obtenida"
   ]
  },
  {
   "cell_type": "code",
   "execution_count": 24,
   "metadata": {},
   "outputs": [],
   "source": [
    "ndcg = obtain_ndcg_all_users(MCompleta)"
   ]
  },
  {
   "cell_type": "markdown",
   "metadata": {},
   "source": [
    "- Para la matriz original"
   ]
  },
  {
   "cell_type": "code",
   "execution_count": 25,
   "metadata": {},
   "outputs": [],
   "source": [
    "ndcg_Y_0 = obtain_ndcg_all_users(ratings)"
   ]
  },
  {
   "cell_type": "markdown",
   "metadata": {},
   "source": [
    "Algunas comparaciones:"
   ]
  },
  {
   "cell_type": "code",
   "execution_count": 26,
   "metadata": {},
   "outputs": [
    {
     "name": "stdout",
     "output_type": "stream",
     "text": [
      "user: 1 - ndcg: 0.73\n",
      "user: 2 - ndcg: 0.63\n",
      "user: 3 - ndcg: 0.51\n",
      "user: 4 - ndcg: 0.59\n",
      "user: 5 - ndcg: 0.57\n",
      "user: 6 - ndcg: 0.56\n",
      "user: 7 - ndcg: 0.61\n",
      "user: 8 - ndcg: 0.45\n"
     ]
    }
   ],
   "source": [
    "# Matriz final\n",
    "for x in list(ndcg)[0:8]:\n",
    "    print (\"user: {} - ndcg: {}\".format(x, ndcg[x]))"
   ]
  },
  {
   "cell_type": "code",
   "execution_count": 27,
   "metadata": {},
   "outputs": [
    {
     "name": "stdout",
     "output_type": "stream",
     "text": [
      "user: 1 - ndcg: 0.26\n",
      "user: 2 - ndcg: 0.53\n",
      "user: 3 - ndcg: 0.36\n",
      "user: 4 - ndcg: 0.56\n",
      "user: 5 - ndcg: 0.45\n",
      "user: 6 - ndcg: 0.32\n",
      "user: 7 - ndcg: 0.53\n",
      "user: 8 - ndcg: 0.45\n"
     ]
    }
   ],
   "source": [
    "# Matriz inicial\n",
    "for x in list(ndcg_Y_0)[0:8]:\n",
    "    print (\"user: {} - ndcg: {}\".format(x, ndcg_Y_0[x]))"
   ]
  },
  {
   "cell_type": "code",
   "execution_count": 28,
   "metadata": {},
   "outputs": [],
   "source": [
    "# Transformando diccionario a arreglo\n",
    "# Datos predichos\n",
    "ndcg_ar = list(ndcg.values())\n",
    "# Datos originales\n",
    "ndcg_Y_0_ar = list(ndcg_Y_0.values())\n",
    "# Usuarios\n",
    "list_fisrt_users = list(range(1, 51))"
   ]
  },
  {
   "cell_type": "code",
   "execution_count": 29,
   "metadata": {},
   "outputs": [
    {
     "data": {
      "image/png": "[encoded data removed]",
      "text/plain": [
       "<Figure size 1080x720 with 1 Axes>"
      ]
     },
     "metadata": {
      "needs_background": "light"
     },
     "output_type": "display_data"
    }
   ],
   "source": [
    "plt.figure(figsize=(15,10))\n",
    "plt.plot(list_fisrt_users, ndcg_ar[:50], label = 'NDCG_Fin', linewidth = 1,color='b')\n",
    "plt.plot(list_fisrt_users, ndcg_Y_0_ar[:50], label = 'NDCG_Ini', linewidth = 1,color='g')\n",
    "plt.xlabel('Usuarios')\n",
    "plt.ylabel('NDCG')\n",
    "plt.legend(['NDCG_Fin','NDCG_Ini'],loc='upper left', bbox_to_anchor=(1.0, 0.5))\n",
    "plt.show()"
   ]
  },
  {
   "cell_type": "markdown",
   "metadata": {},
   "source": [
    "Se puede observar que se mejoró en el desempeño"
   ]
  },
  {
   "cell_type": "code",
   "execution_count": 30,
   "metadata": {},
   "outputs": [
    {
     "ename": "AssertionError",
     "evalue": "\nNot equal to tolerance rtol=1e-05, atol=0\n\nMismatched elements: 647 / 671 (96.4%)\nMax absolute difference: 0.51\nMax relative difference: 2.\n x: array([0.73, 0.63, 0.51, 0.59, 0.57, 0.56, 0.61, 0.45, 0.5 , 0.55, 0.6 ,\n       0.64, 0.53, 0.38, 0.75, 0.43, 0.61, 0.63, 0.76, 0.66, 0.66, 0.58,\n       0.7 , 0.57, 0.55, 0.56, 0.28, 0.57, 0.39, 0.73, 0.5 , 0.53, 0.61,...\n y: array([0.26, 0.53, 0.36, 0.56, 0.45, 0.32, 0.53, 0.45, 0.45, 0.35, 0.31,\n       0.33, 0.44, 0.23, 0.76, 0.29, 0.59, 0.55, 0.78, 0.47, 0.56, 0.52,\n       0.7 , 0.37, 0.36, 0.5 , 0.3 , 0.39, 0.22, 0.76, 0.4 , 0.49, 0.44,...",
     "output_type": "error",
     "traceback": [
      "\u001b[0;31m---------------------------------------------------------------------------\u001b[0m",
      "\u001b[0;31mAssertionError\u001b[0m                            Traceback (most recent call last)",
      "\u001b[0;32m<ipython-input-30-b6400b783e6e>\u001b[0m in \u001b[0;36m<module>\u001b[0;34m\u001b[0m\n\u001b[1;32m      1\u001b[0m \u001b[0;31m#np.testing.assert_allclose(ndcg_ar[:,1], ndcg_Y_0_ar[:,1], atol=0.01, rtol=0.01)\u001b[0m\u001b[0;34m\u001b[0m\u001b[0;34m\u001b[0m\u001b[0;34m\u001b[0m\u001b[0m\n\u001b[0;32m----> 2\u001b[0;31m \u001b[0mnp\u001b[0m\u001b[0;34m.\u001b[0m\u001b[0mtesting\u001b[0m\u001b[0;34m.\u001b[0m\u001b[0massert_allclose\u001b[0m\u001b[0;34m(\u001b[0m\u001b[0mndcg_ar\u001b[0m\u001b[0;34m,\u001b[0m \u001b[0mndcg_Y_0_ar\u001b[0m\u001b[0;34m,\u001b[0m \u001b[0mrtol\u001b[0m\u001b[0;34m=\u001b[0m\u001b[0;36m1e-5\u001b[0m\u001b[0;34m,\u001b[0m \u001b[0matol\u001b[0m\u001b[0;34m=\u001b[0m\u001b[0;36m0\u001b[0m\u001b[0;34m)\u001b[0m\u001b[0;34m\u001b[0m\u001b[0;34m\u001b[0m\u001b[0m\n\u001b[0m",
      "    \u001b[0;31m[... skipping hidden 2 frame]\u001b[0m\n",
      "\u001b[0;31mAssertionError\u001b[0m: \nNot equal to tolerance rtol=1e-05, atol=0\n\nMismatched elements: 647 / 671 (96.4%)\nMax absolute difference: 0.51\nMax relative difference: 2.\n x: array([0.73, 0.63, 0.51, 0.59, 0.57, 0.56, 0.61, 0.45, 0.5 , 0.55, 0.6 ,\n       0.64, 0.53, 0.38, 0.75, 0.43, 0.61, 0.63, 0.76, 0.66, 0.66, 0.58,\n       0.7 , 0.57, 0.55, 0.56, 0.28, 0.57, 0.39, 0.73, 0.5 , 0.53, 0.61,...\n y: array([0.26, 0.53, 0.36, 0.56, 0.45, 0.32, 0.53, 0.45, 0.45, 0.35, 0.31,\n       0.33, 0.44, 0.23, 0.76, 0.29, 0.59, 0.55, 0.78, 0.47, 0.56, 0.52,\n       0.7 , 0.37, 0.36, 0.5 , 0.3 , 0.39, 0.22, 0.76, 0.4 , 0.49, 0.44,..."
     ]
    }
   ],
   "source": [
    "#np.testing.assert_allclose(ndcg_ar[:,1], ndcg_Y_0_ar[:,1], atol=0.01, rtol=0.01)\n",
    "np.testing.assert_allclose(ndcg_ar, ndcg_Y_0_ar, rtol=1e-5, atol=0)\n"
   ]
  },
  {
   "cell_type": "code",
   "execution_count": null,
   "metadata": {},
   "outputs": [],
   "source": []
  }
 ],
 "metadata": {
  "kernelspec": {
   "display_name": "Python 3",
   "language": "python",
   "name": "python3"
  },
  "language_info": {
   "codemirror_mode": {
    "name": "ipython",
    "version": 3
   },
   "file_extension": ".py",
   "mimetype": "text/x-python",
   "name": "python",
   "nbconvert_exporter": "python",
   "pygments_lexer": "ipython3",
   "version": "3.7.4"
  }
 },
 "nbformat": 4,
 "nbformat_minor": 4
}
