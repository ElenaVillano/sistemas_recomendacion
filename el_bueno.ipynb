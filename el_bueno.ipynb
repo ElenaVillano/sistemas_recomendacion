{
 "cells": [
  {
   "cell_type": "markdown",
   "metadata": {},
   "source": [
    "# Proyecto Final\n",
    "\n",
    "***Equipo 07***\n",
    "\n",
    "- Aide Jazmín González Cruz\n",
    "- Elena Villalobos Nolasco\n",
    "- Carolina Acosta Tovany\n",
    "\n",
    "#### Instrucciones\n",
    "\n",
    "El proyecto/examen final consistirá en:\n",
    "\n",
    "La implementación del algoritmo de filtrado colaborativo utilizando la metodología vista en clase (uso de otra metodología no se calificará).\n",
    "\n",
    "Todos los algoritmos de aprendizaje de máquina que se utilicen deberán haber sido creados por ustedes. Sólo podrán utilizar Transformers y funciones de apoyo de scikit-learn (para realizar la división de los datos en entrenamiento y prueba, o el procedimiento de validación cruzada, etc.) mas ningún estimator (regresión logística, máquina de vectores de soporte, k medias, etc.). \n",
    "\n",
    "Se deberá explicar como se obtuvo la k con la que se generó el resultado final.\n",
    "\n",
    "Se utilizarán los archivos con el conjunto pequeño de calificaciones y películas ubicado en la siguiente https://www.kaggle.com/rounakbanik/the-movies-dataset:\n",
    "\n",
    "- **links_small.csv**: Contains the TMDB and IMDB IDs of a small subset of 9,000 movies of the Full Dataset.\n",
    "\n",
    "- **ratings_small.csv**: The subset of 100,000 ratings from 700 users on 9,000 movies.\n",
    "\n",
    "Con el fin de mejorar la calificación (opcional, puntos extra), se podrán utilizar los algoritmos desarrollado en las tareas del curso y los datos relevantes (los que hacen match con los datos anteriores) contenidos en los archivos:\n",
    "\n",
    "- **movies_metadata.csv**: The main Movies Metadata file. Contains information on 45,000 movies featured in the Full MovieLens dataset. Features include posters, backdrops, budget, revenue, release dates, languages, production countries and companies.\n",
    "\n",
    "- **keywords.csv**: Contains the movie plot keywords for our MovieLens movies. Available in the form of a stringified JSON Object.\n",
    "\n",
    "- **credits.csv**: Consists of Cast and Crew Information for all our movies. Available in the form of a stringified JSON Object.\n",
    "\n",
    "La métrica con la que se determinará el desempeño del algoritmo es el NDCG \n",
    "\n",
    "(https://en.wikipedia.org/wiki/Discounted_cumulative_gain#Normalized_DCG)\n",
    "\n",
    "Una vez obtenida la matriz de calificaciones, el programa deberá ser capaz de regresar las 5 mejores recomendaciones del o de los usuarios que se consulten.\n",
    "\n",
    "El proyecto se entregará en un Jupyter notebook. El readme file debe contener las instrucciones para que se ejecute el código. Deben cerciorarse que siguiendo esas instrucciones el programa corre sin errores. \n",
    "\n",
    "Se deberá subir a la carpeta proyecto_final/equipo_xx en el repositorio GitHub antes de las 7:00 am del día del examen final (14 de diciembre de 2020).    "
   ]
  },
  {
   "cell_type": "code",
   "execution_count": 2,
   "metadata": {},
   "outputs": [],
   "source": [
    "# Importación de paqueterías necesarias\n",
    "import pandas as pd\n",
    "import numpy as np\n",
    "import random\n",
    "import matplotlib.pyplot as plt"
   ]
  },
  {
   "cell_type": "code",
   "execution_count": 1,
   "metadata": {},
   "outputs": [],
   "source": [
    "# Importación de paqueterías creadas por nosotras\n",
    "from sis_recom import load_data \n",
    "from sis_recom import create_train_test"
   ]
  },
  {
   "cell_type": "markdown",
   "metadata": {},
   "source": [
    "La función objetivo:\n",
    "    \n",
    "$$J(X) = \\frac{1}{2} \\displaystyle\\sum_{(a,i)\\in\\mathbb{D}} \\left(Y_{ai}-\\left [ UV^T \\right ]_{ai} \\right)^2 + \\frac{\\lambda}{2} \\displaystyle\\sum_{a=1}^n \\displaystyle\\sum_{j=1}^k U_{aj}^2 + \\frac{\\lambda}{2} \\displaystyle\\sum_{i=1}^m \\displaystyle\\sum_{j=1}^k V_{ij}^2$$"
   ]
  },
  {
   "cell_type": "markdown",
   "metadata": {},
   "source": [
    "#### Ya derivadas e igualadas a cero dependiendo de los usuarios e items:\n",
    "\n",
    "$$x_u^T = r_uY\\left(Y^TY+\\lambda_xI^{-1}\\right)$$\n",
    "\n",
    "$$y_i^T = r_iX\\left(X^TX+\\lambda_yI^{-1}\\right)$$"
   ]
  },
  {
   "cell_type": "code",
   "execution_count": 4,
   "metadata": {
    "scrolled": true
   },
   "outputs": [],
   "source": [
    "# Cargamos datos ya limpios\n",
    "ratings = load_data()"
   ]
  },
  {
   "cell_type": "code",
   "execution_count": 5,
   "metadata": {},
   "outputs": [
    {
     "data": {
      "text/html": [
       "<div>\n",
       "<style scoped>\n",
       "    .dataframe tbody tr th:only-of-type {\n",
       "        vertical-align: middle;\n",
       "    }\n",
       "\n",
       "    .dataframe tbody tr th {\n",
       "        vertical-align: top;\n",
       "    }\n",
       "\n",
       "    .dataframe thead th {\n",
       "        text-align: right;\n",
       "    }\n",
       "</style>\n",
       "<table border=\"1\" class=\"dataframe\">\n",
       "  <thead>\n",
       "    <tr style=\"text-align: right;\">\n",
       "      <th></th>\n",
       "      <th>1</th>\n",
       "      <th>2</th>\n",
       "      <th>3</th>\n",
       "      <th>4</th>\n",
       "      <th>5</th>\n",
       "      <th>6</th>\n",
       "      <th>7</th>\n",
       "      <th>8</th>\n",
       "      <th>9</th>\n",
       "      <th>10</th>\n",
       "      <th>...</th>\n",
       "      <th>161830</th>\n",
       "      <th>161918</th>\n",
       "      <th>161944</th>\n",
       "      <th>162376</th>\n",
       "      <th>162542</th>\n",
       "      <th>162672</th>\n",
       "      <th>163056</th>\n",
       "      <th>163949</th>\n",
       "      <th>164977</th>\n",
       "      <th>164979</th>\n",
       "    </tr>\n",
       "  </thead>\n",
       "  <tbody>\n",
       "    <tr>\n",
       "      <th>1</th>\n",
       "      <td>0.0</td>\n",
       "      <td>0.0</td>\n",
       "      <td>0.0</td>\n",
       "      <td>0.0</td>\n",
       "      <td>0.0</td>\n",
       "      <td>0.0</td>\n",
       "      <td>0.0</td>\n",
       "      <td>0.0</td>\n",
       "      <td>0.0</td>\n",
       "      <td>0.0</td>\n",
       "      <td>...</td>\n",
       "      <td>0.0</td>\n",
       "      <td>0.0</td>\n",
       "      <td>0.0</td>\n",
       "      <td>0.0</td>\n",
       "      <td>0.0</td>\n",
       "      <td>0.0</td>\n",
       "      <td>0.0</td>\n",
       "      <td>0.0</td>\n",
       "      <td>0.0</td>\n",
       "      <td>0.0</td>\n",
       "    </tr>\n",
       "    <tr>\n",
       "      <th>2</th>\n",
       "      <td>0.0</td>\n",
       "      <td>0.0</td>\n",
       "      <td>0.0</td>\n",
       "      <td>0.0</td>\n",
       "      <td>0.0</td>\n",
       "      <td>0.0</td>\n",
       "      <td>0.0</td>\n",
       "      <td>0.0</td>\n",
       "      <td>0.0</td>\n",
       "      <td>4.0</td>\n",
       "      <td>...</td>\n",
       "      <td>0.0</td>\n",
       "      <td>0.0</td>\n",
       "      <td>0.0</td>\n",
       "      <td>0.0</td>\n",
       "      <td>0.0</td>\n",
       "      <td>0.0</td>\n",
       "      <td>0.0</td>\n",
       "      <td>0.0</td>\n",
       "      <td>0.0</td>\n",
       "      <td>0.0</td>\n",
       "    </tr>\n",
       "    <tr>\n",
       "      <th>3</th>\n",
       "      <td>0.0</td>\n",
       "      <td>0.0</td>\n",
       "      <td>0.0</td>\n",
       "      <td>0.0</td>\n",
       "      <td>0.0</td>\n",
       "      <td>0.0</td>\n",
       "      <td>0.0</td>\n",
       "      <td>0.0</td>\n",
       "      <td>0.0</td>\n",
       "      <td>0.0</td>\n",
       "      <td>...</td>\n",
       "      <td>0.0</td>\n",
       "      <td>0.0</td>\n",
       "      <td>0.0</td>\n",
       "      <td>0.0</td>\n",
       "      <td>0.0</td>\n",
       "      <td>0.0</td>\n",
       "      <td>0.0</td>\n",
       "      <td>0.0</td>\n",
       "      <td>0.0</td>\n",
       "      <td>0.0</td>\n",
       "    </tr>\n",
       "    <tr>\n",
       "      <th>4</th>\n",
       "      <td>0.0</td>\n",
       "      <td>0.0</td>\n",
       "      <td>0.0</td>\n",
       "      <td>0.0</td>\n",
       "      <td>0.0</td>\n",
       "      <td>0.0</td>\n",
       "      <td>0.0</td>\n",
       "      <td>0.0</td>\n",
       "      <td>0.0</td>\n",
       "      <td>4.0</td>\n",
       "      <td>...</td>\n",
       "      <td>0.0</td>\n",
       "      <td>0.0</td>\n",
       "      <td>0.0</td>\n",
       "      <td>0.0</td>\n",
       "      <td>0.0</td>\n",
       "      <td>0.0</td>\n",
       "      <td>0.0</td>\n",
       "      <td>0.0</td>\n",
       "      <td>0.0</td>\n",
       "      <td>0.0</td>\n",
       "    </tr>\n",
       "    <tr>\n",
       "      <th>5</th>\n",
       "      <td>0.0</td>\n",
       "      <td>0.0</td>\n",
       "      <td>4.0</td>\n",
       "      <td>0.0</td>\n",
       "      <td>0.0</td>\n",
       "      <td>0.0</td>\n",
       "      <td>0.0</td>\n",
       "      <td>0.0</td>\n",
       "      <td>0.0</td>\n",
       "      <td>0.0</td>\n",
       "      <td>...</td>\n",
       "      <td>0.0</td>\n",
       "      <td>0.0</td>\n",
       "      <td>0.0</td>\n",
       "      <td>0.0</td>\n",
       "      <td>0.0</td>\n",
       "      <td>0.0</td>\n",
       "      <td>0.0</td>\n",
       "      <td>0.0</td>\n",
       "      <td>0.0</td>\n",
       "      <td>0.0</td>\n",
       "    </tr>\n",
       "  </tbody>\n",
       "</table>\n",
       "<p>5 rows × 9125 columns</p>\n",
       "</div>"
      ],
      "text/plain": [
       "     1    2    3    4    5    6    7    8    9   10  ...  161830  161918  \\\n",
       "1  0.0  0.0  0.0  0.0  0.0  0.0  0.0  0.0  0.0  0.0  ...     0.0     0.0   \n",
       "2  0.0  0.0  0.0  0.0  0.0  0.0  0.0  0.0  0.0  4.0  ...     0.0     0.0   \n",
       "3  0.0  0.0  0.0  0.0  0.0  0.0  0.0  0.0  0.0  0.0  ...     0.0     0.0   \n",
       "4  0.0  0.0  0.0  0.0  0.0  0.0  0.0  0.0  0.0  4.0  ...     0.0     0.0   \n",
       "5  0.0  0.0  4.0  0.0  0.0  0.0  0.0  0.0  0.0  0.0  ...     0.0     0.0   \n",
       "\n",
       "   161944  162376  162542  162672  163056  163949  164977  164979  \n",
       "1     0.0     0.0     0.0     0.0     0.0     0.0     0.0     0.0  \n",
       "2     0.0     0.0     0.0     0.0     0.0     0.0     0.0     0.0  \n",
       "3     0.0     0.0     0.0     0.0     0.0     0.0     0.0     0.0  \n",
       "4     0.0     0.0     0.0     0.0     0.0     0.0     0.0     0.0  \n",
       "5     0.0     0.0     0.0     0.0     0.0     0.0     0.0     0.0  \n",
       "\n",
       "[5 rows x 9125 columns]"
      ]
     },
     "execution_count": 5,
     "metadata": {},
     "output_type": "execute_result"
    }
   ],
   "source": [
    "ratings.head()"
   ]
  },
  {
   "cell_type": "code",
   "execution_count": 6,
   "metadata": {},
   "outputs": [],
   "source": [
    "n_users, n_items =  ratings.shape"
   ]
  },
  {
   "cell_type": "code",
   "execution_count": 7,
   "metadata": {},
   "outputs": [
    {
     "data": {
      "text/plain": [
       "(671, 9125)"
      ]
     },
     "execution_count": 7,
     "metadata": {},
     "output_type": "execute_result"
    }
   ],
   "source": [
    "n_users, n_items"
   ]
  },
  {
   "cell_type": "code",
   "execution_count": 8,
   "metadata": {},
   "outputs": [],
   "source": [
    "# Separando datos en train y test\n",
    "train, test = create_train_test(np.array(ratings))"
   ]
  },
  {
   "cell_type": "code",
   "execution_count": 10,
   "metadata": {},
   "outputs": [
    {
     "data": {
      "text/plain": [
       "array([[0., 0., 0., ..., 0., 0., 0.],\n",
       "       [0., 0., 0., ..., 0., 0., 0.],\n",
       "       [0., 0., 0., ..., 0., 0., 0.],\n",
       "       ...,\n",
       "       [0., 0., 0., ..., 0., 0., 0.],\n",
       "       [4., 0., 0., ..., 0., 0., 0.],\n",
       "       [5., 0., 0., ..., 0., 0., 0.]])"
      ]
     },
     "execution_count": 10,
     "metadata": {},
     "output_type": "execute_result"
    }
   ],
   "source": [
    "train"
   ]
  },
  {
   "cell_type": "code",
   "execution_count": 11,
   "metadata": {},
   "outputs": [
    {
     "data": {
      "text/plain": [
       "array([[0., 0., 0., ..., 0., 0., 0.],\n",
       "       [0., 0., 0., ..., 0., 0., 0.],\n",
       "       [0., 0., 0., ..., 0., 0., 0.],\n",
       "       ...,\n",
       "       [0., 0., 0., ..., 0., 0., 0.],\n",
       "       [0., 0., 0., ..., 0., 0., 0.],\n",
       "       [0., 0., 0., ..., 0., 0., 0.]])"
      ]
     },
     "execution_count": 11,
     "metadata": {},
     "output_type": "execute_result"
    }
   ],
   "source": [
    "test"
   ]
  },
  {
   "cell_type": "code",
   "execution_count": 16,
   "metadata": {},
   "outputs": [],
   "source": [
    "def mse_f(actual, predicted):\n",
    "    sum_error = 0.0\n",
    "    # loop sobre todos los valores\n",
    "    for i in range(len(actual)):\n",
    "        # el error es la suma de (actual - prediction)^2\n",
    "        prediction_error =  actual[i] - predicted[i]\n",
    "        sum_error += (prediction_error ** 2)\n",
    "    # Normalizamos\n",
    "    mean_error = sum_error / float(len(actual))\n",
    "    return (mean_error)\n",
    "\n",
    "def plot_learning_curve(model):\n",
    "    \"\"\"visualize the training/testing loss\"\"\"\n",
    "    linewidth = 3\n",
    "    plt.plot(model.test_mse_record, label = 'Test', linewidth = linewidth)\n",
    "    plt.plot(model.train_mse_record, label = 'Train', linewidth = linewidth)\n",
    "    plt.xlabel('iterations')\n",
    "    plt.ylabel('MSE')"
   ]
  },
  {
   "cell_type": "code",
   "execution_count": 25,
   "metadata": {},
   "outputs": [],
   "source": [
    "class ExplicitMF:\n",
    "    \"\"\"\n",
    "    Factorización de matrices para predecir entradas vacías en una matriz\n",
    "    \n",
    "    Parametros\n",
    "    ----------\n",
    "    n_iters : numero de iteraciones para entregar algoritmo\n",
    "        \n",
    "    k : rank de la matriz\n",
    "        \n",
    "    _lambda : regularización\n",
    "    \"\"\"\n",
    "    \n",
    "    def __init__(self, n_iters, k, _lambda):\n",
    "        self._lambda = _lambda\n",
    "        self.n_iters = n_iters\n",
    "        self.k = k  \n",
    "        \n",
    "    def fit(self, train, test):\n",
    "        \"\"\"\n",
    "        partición de entrenamiento y test\n",
    "        \"\"\"\n",
    "        self.n_user, self.n_item = train.shape\n",
    "        self.user_factors = np.random.random((self.n_user, self.k))\n",
    "        self.item_factors = np.random.random((self.n_item, self.k))\n",
    "        \n",
    "        # record the training and testing mse for every iteration\n",
    "        # to show convergence later (usually, not worth it for production)\n",
    "        self.test_mse_record  = []\n",
    "        self.train_mse_record = []   \n",
    "        for _ in range(self.n_iters):\n",
    "            self.user_factors = self._als_step(train, self.user_factors, self.item_factors)\n",
    "            self.item_factors = self._als_step(train.T, self.item_factors, self.user_factors) \n",
    "            predictions = self.predict()\n",
    "            test_mse = self.compute_mse(test, predictions)\n",
    "            train_mse = self.compute_mse(train, predictions)\n",
    "            self.test_mse_record.append(test_mse)\n",
    "            self.train_mse_record.append(train_mse)\n",
    "        \n",
    "        return self    \n",
    "    \n",
    "    def _als_step(self, ratings, vec_res, vec_fij):\n",
    "        \"\"\"\n",
    "        función que obtiene los vectores X_u o Y_i\n",
    "        \"\"\"\n",
    "        A = vec_fij.T.dot(vec_fij) + np.eye(self.k) * self._lambda\n",
    "        b = ratings.dot(vec_fij)\n",
    "        A_inv = np.linalg.inv(A)\n",
    "        vec_res = b.dot(A_inv)\n",
    "        return vec_res\n",
    "    \n",
    "    def predict(self):\n",
    "        \"\"\"Predicción de vectores por cada usuario e item\"\"\"\n",
    "        pred = self.user_factors.dot(self.item_factors.T)\n",
    "        return pred\n",
    "    \n",
    "    @staticmethod\n",
    "    def compute_mse(y_true, y_pred):\n",
    "        mask = np.nonzero(y_true)\n",
    "        mse = mse_f(y_true[mask], y_pred[mask])\n",
    "\n",
    "        return mse"
   ]
  },
  {
   "cell_type": "code",
   "execution_count": 42,
   "metadata": {},
   "outputs": [
    {
     "data": {
      "image/png": "[encoded data removed]",
      "text/plain": [
       "<Figure size 432x288 with 1 Axes>"
      ]
     },
     "metadata": {
      "needs_background": "light"
     },
     "output_type": "display_data"
    }
   ],
   "source": [
    "als = ExplicitMF(n_iters = 15, k = 36, _lambda = 0.01)\n",
    "als.fit(train, test)\n",
    "plot_learning_curve(als)"
   ]
  },
  {
   "cell_type": "code",
   "execution_count": null,
   "metadata": {},
   "outputs": [],
   "source": []
  },
  {
   "cell_type": "code",
   "execution_count": 41,
   "metadata": {},
   "outputs": [
    {
     "data": {
      "text/plain": [
       "12.11905399116502"
      ]
     },
     "execution_count": 41,
     "metadata": {},
     "output_type": "execute_result"
    }
   ],
   "source": [
    "np.mean(als.test_mse_record)"
   ]
  },
  {
   "cell_type": "code",
   "execution_count": 26,
   "metadata": {},
   "outputs": [],
   "source": [
    "n_folds = 5"
   ]
  },
  {
   "cell_type": "code",
   "execution_count": 29,
   "metadata": {},
   "outputs": [],
   "source": [
    "K_list = []\n",
    "#for i in range(1, train.shape[0], 10):\n",
    "for i in range(1, train.shape[0], 100):\n",
    "    K_list.append(i)"
   ]
  },
  {
   "cell_type": "code",
   "execution_count": 30,
   "metadata": {},
   "outputs": [
    {
     "data": {
      "text/plain": [
       "[1, 101, 201, 301, 401, 501, 601]"
      ]
     },
     "execution_count": 30,
     "metadata": {},
     "output_type": "execute_result"
    }
   ],
   "source": [
    "K_list"
   ]
  },
  {
   "cell_type": "code",
   "execution_count": 31,
   "metadata": {},
   "outputs": [],
   "source": [
    "K_list = [10,71,171,271,371,471,571,671]"
   ]
  },
  {
   "cell_type": "code",
   "execution_count": 32,
   "metadata": {},
   "outputs": [],
   "source": [
    "df_k = pd.DataFrame(0.0, index=range(1), columns=K_list)\n",
    "data = train"
   ]
  },
  {
   "cell_type": "code",
   "execution_count": 33,
   "metadata": {},
   "outputs": [
    {
     "data": {
      "text/plain": [
       "(671, 9125)"
      ]
     },
     "execution_count": 33,
     "metadata": {},
     "output_type": "execute_result"
    }
   ],
   "source": [
    "data.shape"
   ]
  },
  {
   "cell_type": "code",
   "execution_count": 35,
   "metadata": {},
   "outputs": [
    {
     "data": {
      "text/html": [
       "<div>\n",
       "<style scoped>\n",
       "    .dataframe tbody tr th:only-of-type {\n",
       "        vertical-align: middle;\n",
       "    }\n",
       "\n",
       "    .dataframe tbody tr th {\n",
       "        vertical-align: top;\n",
       "    }\n",
       "\n",
       "    .dataframe thead th {\n",
       "        text-align: right;\n",
       "    }\n",
       "</style>\n",
       "<table border=\"1\" class=\"dataframe\">\n",
       "  <thead>\n",
       "    <tr style=\"text-align: right;\">\n",
       "      <th></th>\n",
       "      <th>10</th>\n",
       "      <th>71</th>\n",
       "      <th>171</th>\n",
       "      <th>271</th>\n",
       "      <th>371</th>\n",
       "      <th>471</th>\n",
       "      <th>571</th>\n",
       "      <th>671</th>\n",
       "    </tr>\n",
       "  </thead>\n",
       "  <tbody>\n",
       "    <tr>\n",
       "      <th>0</th>\n",
       "      <td>9.1771</td>\n",
       "      <td>9.40995</td>\n",
       "      <td>9.536508</td>\n",
       "      <td>9.596107</td>\n",
       "      <td>9.633073</td>\n",
       "      <td>9.650682</td>\n",
       "      <td>9.662138</td>\n",
       "      <td>9.66804</td>\n",
       "    </tr>\n",
       "  </tbody>\n",
       "</table>\n",
       "</div>"
      ],
      "text/plain": [
       "      10       71        171       271       371       471       571      671\n",
       "0  9.1771  9.40995  9.536508  9.596107  9.633073  9.650682  9.662138  9.66804"
      ]
     },
     "execution_count": 35,
     "metadata": {},
     "output_type": "execute_result"
    }
   ],
   "source": [
    "df_k = pd.DataFrame(0.0, index=range(1), columns=K_list)\n",
    "data = train\n",
    "\n",
    "# Dividimos los datos en chunk de igual tamaño de forma vertical\n",
    "chunks = np.hsplit(data, n_folds)\n",
    "for k in K_list:\n",
    "    error = 0.0\n",
    "    for i in range(1, int(n_folds)):\n",
    "\n",
    "        # El chunk i será nuestro bloque de datos de prueba\n",
    "        test_data = chunks[i]\n",
    "\n",
    "        # Entrenamos con todos los otros datos menos con el chunk[i]\n",
    "        train_data = chunks.copy()\n",
    "        train_data.pop(i)\n",
    "        train_data = np.concatenate(train_data)\n",
    "        \n",
    "        als = ExplicitMF(n_iters = 15, k = k, _lambda = 0.01)\n",
    "        als.fit(train_data, test_data)\n",
    "        error += als.test_mse_record[1]\n",
    "    error /= n_folds\n",
    "\n",
    "    df_k[k][0] = error\n",
    "\n",
    "#df_k.idxmin(axis=1)[0]\n",
    "df_k"
   ]
  },
  {
   "cell_type": "code",
   "execution_count": 36,
   "metadata": {},
   "outputs": [
    {
     "data": {
      "text/plain": [
       "10     9.177100\n",
       "71     9.409950\n",
       "171    9.536508\n",
       "271    9.596107\n",
       "371    9.633073\n",
       "471    9.650682\n",
       "571    9.662138\n",
       "671    9.668040\n",
       "Name: 0, dtype: float64"
      ]
     },
     "execution_count": 36,
     "metadata": {},
     "output_type": "execute_result"
    }
   ],
   "source": [
    "df_k.iloc[0]"
   ]
  },
  {
   "cell_type": "code",
   "execution_count": 37,
   "metadata": {},
   "outputs": [],
   "source": [
    "K_list=np.array(K_list)"
   ]
  },
  {
   "cell_type": "code",
   "execution_count": 38,
   "metadata": {},
   "outputs": [
    {
     "data": {
      "text/plain": [
       "array([ 10,  71, 171, 271, 371, 471, 571, 671])"
      ]
     },
     "execution_count": 38,
     "metadata": {},
     "output_type": "execute_result"
    }
   ],
   "source": [
    "K_list"
   ]
  },
  {
   "cell_type": "code",
   "execution_count": 39,
   "metadata": {},
   "outputs": [
    {
     "data": {
      "image/png": "[encoded data removed]",
      "text/plain": [
       "<Figure size 432x288 with 1 Axes>"
      ]
     },
     "metadata": {
      "needs_background": "light"
     },
     "output_type": "display_data"
    }
   ],
   "source": [
    "plt.plot(K_list,df_k.iloc[0] )\n",
    "\n",
    "plt.show()"
   ]
  },
  {
   "cell_type": "markdown",
   "metadata": {},
   "source": [
    "Una vez elegido el modelo realizaremos la validación: "
   ]
  },
  {
   "cell_type": "code",
   "execution_count": null,
   "metadata": {},
   "outputs": [],
   "source": [
    "als = ExplicitMF(n_iters = 15, k = k, _lambda = 0.01)\n",
    "als.fit(train, test)"
   ]
  },
  {
   "cell_type": "code",
   "execution_count": null,
   "metadata": {},
   "outputs": [],
   "source": [
    "# Esta es la matriz completa para poder hacer recomendaciones\n",
    "MCompleta = als.predict()\n",
    "MCompleta = pd.DataFrame(MCompleta, \n",
    "                         columns=ratings.columns, \n",
    "                         index=ratings.index)"
   ]
  },
  {
   "cell_type": "code",
   "execution_count": 43,
   "metadata": {},
   "outputs": [],
   "source": [
    "def recomendaciones_id(Y, MCompleta, array_movies, bases_nombres_id, user, top=5):\n",
    "    \"\"\"\n",
    "    Regresa id de las peliculas reomendadas dado un usuario\n",
    "    Param: Recibe matriz con Nan, id del usurario y el top por default 5\n",
    "    Return: Arreglo de ids de las películas sugeridas\n",
    "    \"\"\"\n",
    "    \n",
    "    # ------------------------------------ Para nuevas recomendaciones------------------------------\n",
    "    # Se multiplica boleano con Y para poner en cero los ratings dados por el usuario\n",
    "    nvos = []\n",
    "    # Agregando índice\n",
    "    for i in range (len(MCompleta)):\n",
    "        # Se concatena el indice de la pélicula\n",
    "        nvos.append([array_movies[i],MCompleta[i]*(~Y[i].any())])\n",
    "    \n",
    "    # nvos es un arreglo se pasa a dataframe para mejor manejabilidad\n",
    "    nvos = pd.DataFrame(nvos)\n",
    "    # se colocan nombres a las columnas\n",
    "    nvos.columns = ['id_movie','rating_recom']\n",
    "    # se ordenan de forma descendente\n",
    "    nvos = nvos.sort_values(by=['rating_recom'], ascending=False)\n",
    "    # Borrando 0\n",
    "    nvos = nvos[(nvos[['rating_recom']] != 0).all(axis=1)]\n",
    "    # Obteniendo el top\n",
    "    recomendaciones = nvos['id_movie'].head(5).to_numpy()\n",
    "    \n",
    "    # ------------------------------------ Para recomendaciones incluyendo las existentes ----------\n",
    "    # Incluyendo los datos calificados\n",
    "    todos = []\n",
    "    # Agregando índice\n",
    "    for i in range (len(MCompleta)):\n",
    "        # Se concatena el indice de la pélicula\n",
    "        todos.append([array_movies[i], MCompleta[i]])\n",
    "    # todos es un arreglo se pasa a dataframe para mejor manejabilidad\n",
    "    todos = pd.DataFrame(todos)\n",
    "    # se colocan nombres a las columnas\n",
    "    todos.columns = ['id_movie','rating_recom']\n",
    "    # se ordenan de forma descendente\n",
    "    todos = todos.sort_values(by=['rating_recom'], ascending=False)\n",
    "    # Obteniendo el top\n",
    "    recomendaciones_t = todos['id_movie'].head(5).to_numpy()  \n",
    "    \n",
    "    # Por si se quiere imprimir desde aqui las recomendaciones\n",
    "    print(\"Estás son las nuevas películas que te recomendamos usuario no. \", user)\n",
    "    print(bases_nombres_id[bases_nombres_id['movieId'].isin(recomendaciones)][[\"movieId\", \"title\"]])\n",
    "    \n",
    "    print(\"Estás películas te pueden interesar usuario no. \", user)\n",
    "    print(bases_nombres_id[bases_nombres_id['movieId'].isin(recomendaciones_t)][[\"movieId\", \"title\"]])\n",
    "    \n",
    "    return recomendaciones, recomendaciones_t\n"
   ]
  },
  {
   "cell_type": "code",
   "execution_count": 44,
   "metadata": {},
   "outputs": [],
   "source": [
    "id_user = 1"
   ]
  },
  {
   "cell_type": "code",
   "execution_count": null,
   "metadata": {},
   "outputs": [],
   "source": [
    "rec_nvas, rec_todas = recomendaciones_id(np.array(ratings)[id_user-1], np.array(MCompleta)[id_user-1], \n",
    "                                         arr_movies, bases_nombres_id, id_user)"
   ]
  },
  {
   "cell_type": "code",
   "execution_count": null,
   "metadata": {},
   "outputs": [],
   "source": [
    "# Películas que no ha visto\n",
    "print(\"Estás son las nuevas películas que te recomendamos usuario no. \", id_user)\n",
    "bases_nombres_id[bases_nombres_id['movieId'].isin(rec_nvas)][[\"movieId\", \"title\"]]"
   ]
  },
  {
   "cell_type": "code",
   "execution_count": null,
   "metadata": {},
   "outputs": [],
   "source": [
    "# Películas que ya vio\n",
    "print(\"Estás películas te pueden interesar usuario no. \", id_user)\n",
    "bases_nombres_id[bases_nombres_id['movieId'].isin(rec_todas)][[\"movieId\", \"title\"]]"
   ]
  },
  {
   "cell_type": "code",
   "execution_count": null,
   "metadata": {},
   "outputs": [],
   "source": [
    "ratings_small = pd.read_csv('ratings_small.csv')"
   ]
  },
  {
   "cell_type": "code",
   "execution_count": null,
   "metadata": {},
   "outputs": [],
   "source": [
    "def desempenio_NDCG(ratings, user):\n",
    "    \"\"\"\n",
    "    Evaluar el desempeño para un usuario\n",
    "    :param user: usuario a evaluar\n",
    "    :return ndcg: normalized discounted cumulative gain\n",
    "    \"\"\"\n",
    "    \n",
    "    rating_1 = ratings.loc[user]\n",
    "    rating_user = rating_1[rating_1!=0]\n",
    "    suma_dcg = 0\n",
    "    suma_idcg = 0\n",
    "    for i in range(0, len(rating_user)):\n",
    "        suma_dcg += rating_user[i] / np.log2(i+1 + 1)\n",
    "        suma_idcg += (pow(2,rating_user[i]) - 1) / np.log2(i+1 + 1)\n",
    "\n",
    "    ndcg = round(suma_dcg / suma_idcg,2)\n",
    "    \n",
    "    return ndcg"
   ]
  },
  {
   "cell_type": "code",
   "execution_count": null,
   "metadata": {},
   "outputs": [],
   "source": [
    "# Probemos para el usuario 1\n",
    "desempenio_NDCG(ratings, id_user)"
   ]
  },
  {
   "cell_type": "code",
   "execution_count": null,
   "metadata": {},
   "outputs": [],
   "source": [
    "# Obtengamos  el desempeño para todos los usuarios\n",
    "def obtain_ndcg_all_users(ratings):\n",
    "    ndcg = {}\n",
    "    \n",
    "    for user in ratings.index:\n",
    "        ndcg.update({user:desempenio_NDCG(ratings, user)})\n",
    "        #ndcg[user] desempenio_NDCG(Y_0, id_user)\n",
    "    return ndcg"
   ]
  },
  {
   "cell_type": "code",
   "execution_count": null,
   "metadata": {},
   "outputs": [],
   "source": [
    "ndcg = obtain_ndcg_all_users(MCompleta)"
   ]
  },
  {
   "cell_type": "code",
   "execution_count": null,
   "metadata": {},
   "outputs": [],
   "source": [
    "ndcg_Y_0 = obtain_ndcg_all_users(ratings)"
   ]
  },
  {
   "cell_type": "code",
   "execution_count": null,
   "metadata": {},
   "outputs": [],
   "source": []
  }
 ],
 "metadata": {
  "kernelspec": {
   "display_name": "Python 3",
   "language": "python",
   "name": "python3"
  },
  "language_info": {
   "codemirror_mode": {
    "name": "ipython",
    "version": 3
   },
   "file_extension": ".py",
   "mimetype": "text/x-python",
   "name": "python",
   "nbconvert_exporter": "python",
   "pygments_lexer": "ipython3",
   "version": "3.7.6"
  }
 },
 "nbformat": 4,
 "nbformat_minor": 4
}
